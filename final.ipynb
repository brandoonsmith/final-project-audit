{
 "cells": [
  {
   "cell_type": "code",
   "execution_count": 5,
   "id": "f293442b",
   "metadata": {},
   "outputs": [
    {
     "name": "stdout",
     "output_type": "stream",
     "text": [
      "-----------------------------------\n",
      "IP Address\tMAC Address\n",
      "-----------------------------------\n",
      "192.168.1.57\tdc:fb:48:66:7d:f8\n",
      "192.168.1.58\tcc:35:40:96:29:f0\n",
      "192.168.1.52\t4c:c9:5e:80:5d:d4\n",
      "192.168.1.66\tb4:86:55:76:ef:c7\n",
      "192.168.1.254\tcc:35:40:96:29:ee\n"
     ]
    }
   ],
   "source": [
    "import scapy.all as scapy\n",
    "import tkinter as tk\n",
    "from tkinter import ttk\n",
    "from tkinter import *\n",
    "from tkinter.ttk import *\n",
    "from tkinter import scrolledtext as st\n",
    "import sys\n",
    "from tkinter import filedialog as fd\n",
    "from tkinter import messagebox as mb\n",
    "\n",
    "class Monitor:\n",
    "\n",
    "    def __init__(self, window):\n",
    "        # Initializations \n",
    "        self.wind = window\n",
    "        self.wind.title('Network Monitor')\n",
    "        self.scrolledtext1=st.ScrolledText(self.wind, width=100, height=10)\n",
    "        self.scrolledtext1.pack(fill=tk.BOTH, side=tk.LEFT, expand=True)\n",
    "        \n",
    "    def scan(self,ip):\n",
    "        self.arp_req_frame = scapy.ARP(pdst = ip)\n",
    "        self.broadcast_ether_frame = scapy.Ether(dst = \"ff:ff:ff:ff:ff:ff\")\n",
    "    \n",
    "        self.broadcast_ether_arp_req_frame = self.broadcast_ether_frame / self.arp_req_frame\n",
    "\n",
    "        self.answered_list = scapy.srp(self.broadcast_ether_arp_req_frame, timeout = 1, verbose = False)[0]\n",
    "        self.result = []\n",
    "        for i in range(0,len(self.answered_list)):\n",
    "            self.client_dict = {\"ip\" : self.answered_list[i][1].psrc, \"mac\" : self.answered_list[i][1].hwsrc}\n",
    "            self.result.append(self.client_dict)\n",
    "\n",
    "        return self.result\n",
    "    \n",
    "    def display_result(self,result):\n",
    "        print(\"-----------------------------------\\nIP Address\\tMAC Address\\n-----------------------------------\")\n",
    "        for i in self.result:\n",
    "            print(\"{}\\t{}\".format(i[\"ip\"], i[\"mac\"]))\n",
    "        \n",
    "if __name__ == '__main__':\n",
    "    window = tk.Tk()\n",
    "    application = Monitor(window)\n",
    "    scanned_output = application.scan('192.168.1.254/24')\n",
    "    application.display_result(scanned_output)\n",
    "    window.mainloop()"
   ]
  },
  {
   "cell_type": "code",
   "execution_count": null,
   "id": "0de89691",
   "metadata": {},
   "outputs": [],
   "source": []
  },
  {
   "cell_type": "code",
   "execution_count": null,
   "id": "a0d0b6f5",
   "metadata": {},
   "outputs": [],
   "source": []
  },
  {
   "cell_type": "code",
   "execution_count": null,
   "id": "raising-joseph",
   "metadata": {},
   "outputs": [],
   "source": []
  }
 ],
 "metadata": {
  "kernelspec": {
   "display_name": "Python 3",
   "language": "python",
   "name": "python3"
  },
  "language_info": {
   "codemirror_mode": {
    "name": "ipython",
    "version": 3
   },
   "file_extension": ".py",
   "mimetype": "text/x-python",
   "name": "python",
   "nbconvert_exporter": "python",
   "pygments_lexer": "ipython3",
   "version": "3.9.2"
  }
 },
 "nbformat": 4,
 "nbformat_minor": 5
}
